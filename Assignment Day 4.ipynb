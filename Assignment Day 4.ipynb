{
 "cells": [
  {
   "cell_type": "markdown",
   "metadata": {},
   "source": [
    "# Addition, Subtraction, Multiplication, Division, Floor Division And Modulo\n",
    "operations be performed on complex numbers. Based on your study, implement a Python\n",
    "program to demonstrate these operations."
   ]
  },
  {
   "cell_type": "code",
   "execution_count": 1,
   "metadata": {},
   "outputs": [
    {
     "name": "stdout",
     "output_type": "stream",
     "text": [
      "The Addition of two complex numbers is  (10+7j)\n",
      "The Subtract of two complex numbers is  (-2-1j)\n",
      "The Multiplication of two complex numbers is (12+34j)\n",
      "The Division of two complex numbers is  (0.6923076923076924+0.038461538461538484j)\n"
     ]
    },
    {
     "ename": "TypeError",
     "evalue": "can't take floor of complex number.",
     "output_type": "error",
     "traceback": [
      "\u001b[1;31m---------------------------------------------------------------------------\u001b[0m",
      "\u001b[1;31mTypeError\u001b[0m                                 Traceback (most recent call last)",
      "\u001b[1;32m<ipython-input-1-79b43b0f5a2f>\u001b[0m in \u001b[0;36m<module>\u001b[1;34m\u001b[0m\n\u001b[0;32m     26\u001b[0m \u001b[0mA4\u001b[0m \u001b[1;33m=\u001b[0m \u001b[1;33m(\u001b[0m\u001b[1;36m4\u001b[0m\u001b[1;33m+\u001b[0m\u001b[1;36m3j\u001b[0m\u001b[1;33m)\u001b[0m\u001b[1;33m\u001b[0m\u001b[1;33m\u001b[0m\u001b[0m\n\u001b[0;32m     27\u001b[0m \u001b[0mB4\u001b[0m \u001b[1;33m=\u001b[0m \u001b[1;33m(\u001b[0m\u001b[1;36m6\u001b[0m\u001b[1;33m+\u001b[0m\u001b[1;36m4j\u001b[0m\u001b[1;33m)\u001b[0m\u001b[1;33m\u001b[0m\u001b[1;33m\u001b[0m\u001b[0m\n\u001b[1;32m---> 28\u001b[1;33m \u001b[0mC4\u001b[0m \u001b[1;33m=\u001b[0m \u001b[0mA\u001b[0m \u001b[1;33m//\u001b[0m \u001b[0mB\u001b[0m\u001b[1;33m\u001b[0m\u001b[1;33m\u001b[0m\u001b[0m\n\u001b[0m\u001b[0;32m     29\u001b[0m \u001b[0mprint\u001b[0m\u001b[1;33m(\u001b[0m\u001b[1;34m\"The Floordivision of two complex numbers is\"\u001b[0m\u001b[1;33m,\u001b[0m\u001b[0mC4\u001b[0m\u001b[1;33m)\u001b[0m\u001b[1;33m\u001b[0m\u001b[1;33m\u001b[0m\u001b[0m\n\u001b[0;32m     30\u001b[0m \u001b[1;33m\u001b[0m\u001b[0m\n",
      "\u001b[1;31mTypeError\u001b[0m: can't take floor of complex number."
     ]
    }
   ],
   "source": [
    "#Addition\n",
    "A = (4+3j)\n",
    "B = (6+4j)\n",
    "C = A+B\n",
    "print(\"The Addition of two complex numbers is \",C)\n",
    "\n",
    "#Subtraction\n",
    "A1 = (4+3j)\n",
    "B1 = (6+4j)\n",
    "C1= A-B\n",
    "print(\"The Subtract of two complex numbers is \" , C1)\n",
    "\n",
    "#Multiplication\n",
    "A2 = (4+3j)\n",
    "B2 = (6+4j)\n",
    "C2 = A*B\n",
    "print(\"The Multiplication of two complex numbers is\",C2)\n",
    "\n",
    "#Division\n",
    "A3 = (4+3j)\n",
    "B3 = (6+4j)\n",
    "C3 = A/B\n",
    "print(\"The Division of two complex numbers is \",C3)\n",
    "\n",
    "#Floordivision\n",
    "A4 = (4+3j)\n",
    "B4 = (6+4j)\n",
    "C4 = A // B\n",
    "print(\"The Floordivision of two complex numbers is\",C4)\n",
    "\n",
    "#Modulus\n",
    "A5 = (4+3j)\n",
    "B5 = (6+4j)\n",
    "C5 = A%B\n",
    "print(\"The Modulus of two complex numbers is \",C5)\n",
    "\n"
   ]
  },
  {
   "cell_type": "markdown",
   "metadata": {},
   "source": [
    "#    Research on range() functions and its parameters. Create a markdown cell and write in your own\n"
   ]
  },
  {
   "cell_type": "markdown",
   "metadata": {},
   "source": [
    "    Range function used to iterate the numbers specified by user from example :0 to 100 , it can start from anynumber like 5 to 1000 etc. But it will go from left to right only it wont go in reverse direction. It used mostly in for and while loop only. its parameters are start,end and steps, example : range(0,10,2). third point indicates how many steps it will skip and iterate\n",
    "    "
   ]
  },
  {
   "cell_type": "markdown",
   "metadata": {},
   "source": [
    "# Range program"
   ]
  },
  {
   "cell_type": "code",
   "execution_count": 11,
   "metadata": {},
   "outputs": [
    {
     "name": "stdout",
     "output_type": "stream",
     "text": [
      "5\n",
      "10\n",
      "15\n",
      "20\n",
      "25\n",
      "30\n",
      "35\n",
      "40\n",
      "45\n",
      "50\n",
      "55\n",
      "60\n",
      "65\n",
      "70\n",
      "75\n",
      "80\n",
      "85\n",
      "90\n",
      "95\n"
     ]
    }
   ],
   "source": [
    "y=0\n",
    "for x in range(5,100,5):\n",
    "    print(x)\n"
   ]
  },
  {
   "cell_type": "markdown",
   "metadata": {},
   "source": [
    "# Consider two numbers. Perform their subtraction and if the result of subtraction is greater than\n",
    "25, print their multiplication result else print their division result"
   ]
  },
  {
   "cell_type": "code",
   "execution_count": 14,
   "metadata": {},
   "outputs": [
    {
     "name": "stdout",
     "output_type": "stream",
     "text": [
      "The division Result is 1.2727272727272727\n"
     ]
    }
   ],
   "source": [
    "Ab = 98\n",
    "bc = 77\n",
    "cc = Ab-bc\n",
    "if cc > 25:\n",
    "    cd = Ab*bc\n",
    "    print(\"The multiplication result is\", cd)\n",
    "else:\n",
    "    cdd = Ab / bc\n",
    "    print(\"The division Result is\", cdd)"
   ]
  },
  {
   "cell_type": "markdown",
   "metadata": {},
   "source": [
    "# Consider a list of 10 elements of integer values. If the number in the list is divisible by 2, print the\n",
    "result as \"square of that number minus 2\".\n"
   ]
  },
  {
   "cell_type": "code",
   "execution_count": 24,
   "metadata": {},
   "outputs": [
    {
     "name": "stdout",
     "output_type": "stream",
     "text": [
      "2.4721359549995796\n",
      "2.6904157598234297\n",
      "4.6332495807108\n",
      "6.124038404635961\n",
      "6.774964387392123\n",
      "7.949874371066199\n"
     ]
    }
   ],
   "source": [
    "import math \n",
    "c = 0\n",
    "lst = [20,22,44,66,77,99]\n",
    "for I in lst:\n",
    "    if I / 2:\n",
    "        it=math.sqrt(I)\n",
    "        it = it-2\n",
    "        print(it)\n",
    "    \n",
    "    "
   ]
  },
  {
   "cell_type": "markdown",
   "metadata": {},
   "source": [
    "# Consider a list of 10 elements. Print all the elements in the list which are greater than 7 when that\n",
    "number is divided 2."
   ]
  },
  {
   "cell_type": "code",
   "execution_count": 25,
   "metadata": {},
   "outputs": [
    {
     "name": "stdout",
     "output_type": "stream",
     "text": [
      "24\n",
      "48\n",
      "96\n"
     ]
    }
   ],
   "source": [
    "lst_1 = [2,3,4,24,48,96]\n",
    "for L in lst_1:\n",
    "    if (L > 7) and (L/2):\n",
    "        LL=L\n",
    "        print(LL)\n",
    "        "
   ]
  },
  {
   "cell_type": "code",
   "execution_count": null,
   "metadata": {},
   "outputs": [],
   "source": []
  }
 ],
 "metadata": {
  "kernelspec": {
   "display_name": "Python 3",
   "language": "python",
   "name": "python3"
  },
  "language_info": {
   "codemirror_mode": {
    "name": "ipython",
    "version": 3
   },
   "file_extension": ".py",
   "mimetype": "text/x-python",
   "name": "python",
   "nbconvert_exporter": "python",
   "pygments_lexer": "ipython3",
   "version": "3.7.6"
  }
 },
 "nbformat": 4,
 "nbformat_minor": 4
}
