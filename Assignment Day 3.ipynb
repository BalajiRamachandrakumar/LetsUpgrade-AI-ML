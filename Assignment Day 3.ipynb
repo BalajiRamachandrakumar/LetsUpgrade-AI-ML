{
 "cells": [
  {
   "cell_type": "markdown",
   "metadata": {},
   "source": [
    "# subtract two complex numbers\n"
   ]
  },
  {
   "cell_type": "code",
   "execution_count": 2,
   "metadata": {},
   "outputs": [
    {
     "name": "stdout",
     "output_type": "stream",
     "text": [
      "Subtraction Of Complex Numbers Is (1+10j)\n"
     ]
    }
   ],
   "source": [
    "A = 4+3j\n",
    "B = 3-7j\n",
    "print(\"Subtraction Of Complex Numbers Is\", A-B)"
   ]
  },
  {
   "cell_type": "markdown",
   "metadata": {},
   "source": [
    "# The fourth root of a number.\n"
   ]
  },
  {
   "cell_type": "code",
   "execution_count": 4,
   "metadata": {},
   "outputs": [
    {
     "name": "stdout",
     "output_type": "stream",
     "text": [
      "The Fourth Root Of a Number is 2.0\n"
     ]
    }
   ],
   "source": [
    "import math as m\n",
    "A = 4\n",
    "\n",
    "print(\"The Fourth Root Of a Number is\", m.sqrt(A))"
   ]
  },
  {
   "cell_type": "markdown",
   "metadata": {},
   "source": [
    "# swap two numbers in Python with the help of a temporary variable.\n"
   ]
  },
  {
   "cell_type": "code",
   "execution_count": 6,
   "metadata": {},
   "outputs": [
    {
     "name": "stdout",
     "output_type": "stream",
     "text": [
      "Value of Num1 before swapping:  4\n",
      "Value of Num2 before swapping:  6\n",
      "Value of Num1 after swapping:  6\n",
      "Value of Num2 after swapping:  4\n"
     ]
    }
   ],
   "source": [
    "# Python program to swap two variables\n",
    "\n",
    "Num1 = 4\n",
    "Num2 = 6\n",
    "print(\"Value of Num1 before swapping: \", Num1)\n",
    "print(\"Value of Num2 before swapping: \", Num2)\n",
    "\n",
    "# swapping two numbers using temporary variable\n",
    "Temporary_variable = Num1\n",
    "Num1 = Num2\n",
    "Num2 = temp\n",
    "\n",
    "print(\"Value of Num1 after swapping: \", Num1)\n",
    "print(\"Value of Num2 after swapping: \", Num2)"
   ]
  },
  {
   "cell_type": "markdown",
   "metadata": {},
   "source": [
    "#  swap two numbers in Python without using a temporary variable"
   ]
  },
  {
   "cell_type": "code",
   "execution_count": 14,
   "metadata": {},
   "outputs": [
    {
     "name": "stdout",
     "output_type": "stream",
     "text": [
      "After swapping the number, x = is  10\n",
      "After swapping the number, y = is  20\n"
     ]
    }
   ],
   "source": [
    "x = 20\n",
    "y = 10\n",
    "\n",
    "# x becomes 30\n",
    "x = x+y\n",
    "# y becomes 20\n",
    "y = x-y\n",
    "\n",
    "#x becomes 10 \n",
    "x = x - y\n",
    "print(\"After swapping the number, x = is \", x)\n",
    "print(\"After swapping the number, y = is \", y)"
   ]
  },
  {
   "cell_type": "markdown",
   "metadata": {},
   "source": [
    "# convert fahrenheit to kelvin and celsius both"
   ]
  },
  {
   "cell_type": "code",
   "execution_count": 19,
   "metadata": {},
   "outputs": [
    {
     "name": "stdout",
     "output_type": "stream",
     "text": [
      "kelvin is 309.94444444444446\n",
      "Celsius is 36.44444444444444\n"
     ]
    }
   ],
   "source": [
    " F = 97.6\n",
    "    \n",
    "K = 273.5 + ((F - 32.0) * (5.0/9.0))\n",
    "\n",
    "print(\"kelvin is\", K)\n",
    "\n",
    "Celsius = (F - 32) * 5.0/9.0\n",
    "\n",
    "print(\"Celsius is\", Celsius)\n",
    "    \n",
    "# Output : K = 311.278\n",
    "\n",
    "# I F = 110\n",
    "# Output : K = 316.833\n"
   ]
  },
  {
   "cell_type": "markdown",
   "metadata": {},
   "source": [
    "# Demonstrate All The Available Data Types In Python."
   ]
  },
  {
   "cell_type": "code",
   "execution_count": 37,
   "metadata": {},
   "outputs": [
    {
     "name": "stdout",
     "output_type": "stream",
     "text": [
      "{'name': 'balaji_ramachandrakumar', 'age': 27, 'career': 'Offshore engineer and iot freelancer'}\n"
     ]
    }
   ],
   "source": [
    "Programming_language = \"Python\"\n",
    "int(7.77)\n",
    "float(7)\n",
    "lit = [1,2,3,4,5,6,7,8,9]\n",
    "tule = (\"Python\",1,2,3,33,4,5,6,77,89,99,\"Ai-Ml\")\n",
    "dic = {\"name\":\"balaji_ramachandrakumar\",\"age\":27,\"career\": \"Offshore engineer and iot freelancer\"}\n",
    "\"Balaji\""
   ]
  },
  {
   "cell_type": "markdown",
   "metadata": {},
   "source": [
    "# Markdown cell in jupyter and list the steps discussed in the session by Dr. Darshan sir."
   ]
  },
  {
   "cell_type": "markdown",
   "metadata": {},
   "source": [
    "    Step1 - Create an account in Github and sign in \n",
    "    Step2 - Create new respository and rename it\n",
    "    Step3 - Push the new folder and push the file according to daywise assignments in existing option\n",
    "    Step4 - It should be visible in public"
   ]
  },
  {
   "cell_type": "code",
   "execution_count": null,
   "metadata": {},
   "outputs": [],
   "source": []
  }
 ],
 "metadata": {
  "kernelspec": {
   "display_name": "Python 3",
   "language": "python",
   "name": "python3"
  },
  "language_info": {
   "codemirror_mode": {
    "name": "ipython",
    "version": 3
   },
   "file_extension": ".py",
   "mimetype": "text/x-python",
   "name": "python",
   "nbconvert_exporter": "python",
   "pygments_lexer": "ipython3",
   "version": "3.7.6"
  }
 },
 "nbformat": 4,
 "nbformat_minor": 4
}
