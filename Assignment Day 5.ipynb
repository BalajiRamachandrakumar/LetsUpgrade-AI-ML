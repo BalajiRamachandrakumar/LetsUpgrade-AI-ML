{
 "cells": [
  {
   "cell_type": "markdown",
   "metadata": {},
   "source": [
    "# Write a Python program to find the first 20 non-even prime natural numbers"
   ]
  },
  {
   "cell_type": "code",
   "execution_count": 1,
   "metadata": {},
   "outputs": [
    {
     "name": "stdout",
     "output_type": "stream",
     "text": [
      "3\n",
      "5\n",
      "7\n",
      "9\n",
      "11\n",
      "13\n",
      "15\n",
      "17\n",
      "19\n",
      "21\n",
      "23\n",
      "25\n",
      "27\n",
      "29\n",
      "31\n",
      "33\n",
      "35\n",
      "37\n",
      "39\n",
      "41\n",
      "43\n",
      "45\n",
      "47\n",
      "49\n"
     ]
    }
   ],
   "source": [
    "Lstm = [3,4,5,6,7,8,9,10,11,12,13,14,15,16,17,18,19,20,21,22,23,24,25,26,27,28,29,30,31,32,33,34,35,36,37,38,39,40,41,42,43,44,45,46,47,48,49]\n",
    "\n",
    "for l in Lstm:\n",
    "    if l % 2 :\n",
    "        LL = l\n",
    "        print(LL)"
   ]
  },
  {
   "cell_type": "markdown",
   "metadata": {},
   "source": [
    "# Write a Python program to implement 15 functions of string"
   ]
  },
  {
   "cell_type": "code",
   "execution_count": 2,
   "metadata": {},
   "outputs": [
    {
     "name": "stdout",
     "output_type": "stream",
     "text": [
      "Python\n",
      "python\n",
      "True\n",
      "-1\n",
      "True\n",
      "True\n",
      "False\n",
      "True\n",
      "True\n",
      "False\n",
      "python\n",
      "pythuu\n",
      "['python']\n",
      "Python\n",
      "True\n",
      "python\n"
     ]
    }
   ],
   "source": [
    "sstring = \"python\"\n",
    "print(sstring.capitalize())\n",
    "print(sstring.casefold())\n",
    "print(sstring.endswith(\"n\"))\n",
    "print(sstring.find('r'))\n",
    "print(sstring.isalnum())\n",
    "print(sstring.isalpha())\n",
    "print(sstring.isdecimal())\n",
    "print(sstring.islower())\n",
    "print(sstring.isprintable())\n",
    "print(sstring.isupper())\n",
    "print(sstring.lstrip(\"  \"))\n",
    "print(sstring.replace(\"on\",\"uu\"))\n",
    "print(sstring.rsplit())\n",
    "print(sstring.title())\n",
    "print(sstring.startswith(\"p\"))\n",
    "print(sstring.strip())\n",
    "\n",
    "\n",
    "\n",
    "\n",
    "\n",
    "\n"
   ]
  },
  {
   "cell_type": "markdown",
   "metadata": {},
   "source": [
    "# Write a Python program to find out palindrome or anagram"
   ]
  },
  {
   "cell_type": "code",
   "execution_count": null,
   "metadata": {},
   "outputs": [],
   "source": [
    "\n",
    "my_string = input(\"Enter the string \")\n",
    "my_string_s = input(\"Enter the second string \")\n",
    "my_string_ss = input(\"Enter the third string \")\n",
    "\n",
    "my_string = my_string.casefold()\n",
    "i = 0\n",
    "# reverse the string\n",
    "rev_string = reversed(my_string)\n",
    "while i<5:\n",
    "    if list(my_string) == list(rev_string):\n",
    "        print(\"The string is a palindrome.\", my_string.capitalize())\n",
    "    elif(sorted(my_string_s)== sorted(my_string_ss)):\n",
    "        print(\"The string is a anagram.\", my_string_s.capitalize(),\"and\",my_string_ss.capitalize())\n",
    "    else:\n",
    "        print(\"The string is none of them\")\n",
    "    i=+1"
   ]
  },
  {
   "cell_type": "markdown",
   "metadata": {},
   "source": [
    "# Write a Python program to   Removes All The Additional Characters From The String"
   ]
  },
  {
   "cell_type": "code",
   "execution_count": 4,
   "metadata": {},
   "outputs": [
    {
     "name": "stdout",
     "output_type": "stream",
     "text": [
      "the string is Dr. Darshan Ingle@AI-ML Trainer\n",
      " The final string is  dr darshan ingle@ai-ml trainer\n",
      " The final string is  drdarshaningle@ai-mltrainer\n",
      " The final string is  drdarshaningle@aimltrainer\n",
      " The final string is  drdarshaningleaimltrainer\n"
     ]
    }
   ],
   "source": [
    "def additional_characters(yt):\n",
    "    vlist = [\".\",\" \",\"-\",\"@\"]\n",
    "    for it in vlist:\n",
    "        yt = yt.replace(it,\"\")\n",
    "        yt = yt.lower()\n",
    "        print(\" The final string is \", yt)\n",
    "string_s= \"Dr. Darshan Ingle@AI-ML Trainer\"\n",
    "print(\"the string is\",string_s)\n",
    "additional_characters(string_s)"
   ]
  },
  {
   "cell_type": "code",
   "execution_count": null,
   "metadata": {},
   "outputs": [],
   "source": []
  }
 ],
 "metadata": {
  "kernelspec": {
   "display_name": "Python 3",
   "language": "python",
   "name": "python3"
  },
  "language_info": {
   "codemirror_mode": {
    "name": "ipython",
    "version": 3
   },
   "file_extension": ".py",
   "mimetype": "text/x-python",
   "name": "python",
   "nbconvert_exporter": "python",
   "pygments_lexer": "ipython3",
   "version": "3.7.6"
  }
 },
 "nbformat": 4,
 "nbformat_minor": 4
}
